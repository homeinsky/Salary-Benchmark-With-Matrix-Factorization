{
 "cells": [
  {
   "cell_type": "code",
   "execution_count": 1,
   "metadata": {},
   "outputs": [],
   "source": [
    "import numpy as np\n",
    "import pandas as pd\n",
    "import pickle as cPickle"
   ]
  },
  {
   "cell_type": "markdown",
   "metadata": {},
   "source": [
    "load the salary matrix and similarity matrix for model"
   ]
  },
  {
   "cell_type": "code",
   "execution_count": 2,
   "metadata": {},
   "outputs": [],
   "source": [
    "with open('salary_lower_bound_matrix.p','rb') as f:\n",
    "    df_low=cPickle.load(f)\n",
    "with open('salary_upper_bound_matrix.p','rb') as f:\n",
    "    df_upper=cPickle.load(f)\n",
    "with open('job_similarity_matrix.p','rb') as f:\n",
    "    M=cPickle.load(f)\n",
    "with open('comany_similarity_matrix.p','rb') as f:\n",
    "    N=cPickle.load(f)"
   ]
  },
  {
   "cell_type": "code",
   "execution_count": 3,
   "metadata": {},
   "outputs": [],
   "source": [
    "## this function used for evaluation and save results\n",
    "import time\n",
    "def evaluate(algo,testset,algoname,savefilename):\n",
    "    import numpy as np\n",
    "    import time\n",
    "    f=open(savefilename,'ab')\n",
    "    val_n = 0\n",
    "    val_rmse = 0\n",
    "    val_mae = 0\n",
    "    for u, i, r in testset:\n",
    "        est = algo.predict(int(u), int(i), r_ui=r)\n",
    "        val_rmse = val_rmse + (r - est[3]) ** 2\n",
    "        val_mae = val_mae + abs(r - est[3])\n",
    "        val_n+=1\n",
    "    val_rmse = np.sqrt(val_rmse / val_n)\n",
    "    val_mae = val_mae / val_n\n",
    "    ct=time.ctime()\n",
    "    f.write('%s, val rmse is:%.6f,val mae is:%.6f\\t%s\\n'%(algoname,val_rmse,val_mae,ct))\n",
    "    f.close()\n",
    "    print('%s, val rmse is:%.6f,val mae is:%.6f'%(algoname,val_rmse,val_mae))\n",
    "    return val_rmse, val_mae"
   ]
  },
  {
   "cell_type": "markdown",
   "metadata": {},
   "source": [
    "split and prepare the data for 5 cross validation "
   ]
  },
  {
   "cell_type": "code",
   "execution_count": 4,
   "metadata": {},
   "outputs": [],
   "source": [
    "from surprise import Dataset\n",
    "from surprise import Reader\n",
    "reader = Reader(rating_scale=(1,5),line_format='user item rating',sep='\\t')\n",
    "data1=Dataset.load_from_df(df_low,reader)\n",
    "data1.split(5)\n",
    "reader = Reader(rating_scale=(1,5),line_format='user item rating',sep='\\t')\n",
    "data2=Dataset.load_from_df(df_upper,reader)\n",
    "data2.split(5)"
   ]
  },
  {
   "cell_type": "markdown",
   "metadata": {},
   "source": [
    "train the model"
   ]
  },
  {
   "cell_type": "code",
   "execution_count": 5,
   "metadata": {},
   "outputs": [
    {
     "name": "stdout",
     "output_type": "stream",
     "text": [
      "HSBMF, val rmse is:0.774426,val mae is:0.593820\n",
      "HSBMF, val rmse is:0.784219,val mae is:0.603323\n",
      "HSBMF, val rmse is:0.785391,val mae is:0.603090\n",
      "HSBMF, val rmse is:0.781022,val mae is:0.599359\n",
      "HSBMF, val rmse is:0.779051,val mae is:0.597341\n",
      "HSBMF, val rmse is:0.778294,val mae is:0.590092\n",
      "HSBMF, val rmse is:0.777658,val mae is:0.592203\n",
      "HSBMF, val rmse is:0.775638,val mae is:0.592259\n",
      "HSBMF, val rmse is:0.775086,val mae is:0.588755\n",
      "HSBMF, val rmse is:0.771332,val mae is:0.587588\n"
     ]
    }
   ],
   "source": [
    "import SalaryBenchmark_MF as mf\n",
    "import SalaryBenchmark_MF_SideMatrix as sm\n",
    "\n",
    "f1='result_lower_bound.txt'\n",
    "f2='result_upper_bound.txt'\n",
    "\n",
    "for fold,(trainset,testset) in enumerate(data1.folds()):\n",
    "    aux_pu,aux_qi=sm.SalaryBenchamrk_SVD_SideMatrix(trainset,M,N,reg_su=1e-4,reg_si=1e-4,reg_t=1e-4,reg_l=1e-4)\n",
    "    algo1=mf.SalaryBenchmark_SVD(n_factors=5, n_epochs=100)\n",
    "    algo1.train(trainset,aux_pu,aux_qi)\n",
    "    evaluate(algo1,testset,'HSBMF',f1)\n",
    "\n",
    "        \n",
    "for fold,(trainset,testset) in enumerate(data2.folds()):\n",
    "    aux_pu,aux_qi=sm.SalaryBenchamrk_SVD_SideMatrix(trainset,M,N,reg_su=1e-4,reg_si=1e-4,reg_t=1e-4,reg_l=1e-4)\n",
    "    algo2=mf.SalaryBenchmark_SVD(n_factors=5, n_epochs=100)\n",
    "    algo2.train(trainset,aux_pu,aux_qi)\n",
    "    evaluate(algo2,testset,'HSBMF',f2)\n"
   ]
  }
 ],
 "metadata": {
  "kernelspec": {
   "display_name": "Python 2",
   "language": "python",
   "name": "python2"
  },
  "language_info": {
   "codemirror_mode": {
    "name": "ipython",
    "version": 2
   },
   "file_extension": ".py",
   "mimetype": "text/x-python",
   "name": "python",
   "nbconvert_exporter": "python",
   "pygments_lexer": "ipython2",
   "version": "2.7.14"
  }
 },
 "nbformat": 4,
 "nbformat_minor": 2
}
